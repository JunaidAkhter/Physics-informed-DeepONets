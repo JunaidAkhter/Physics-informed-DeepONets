{
  "nbformat": 4,
  "nbformat_minor": 0,
  "metadata": {
    "colab": {
      "provenance": [],
      "authorship_tag": "ABX9TyO+UvJtiiVo4nT2voxW4Lqs",
      "include_colab_link": true
    },
    "kernelspec": {
      "name": "python3",
      "display_name": "Python 3"
    },
    "language_info": {
      "name": "python"
    }
  },
  "cells": [
    {
      "cell_type": "markdown",
      "metadata": {
        "id": "view-in-github",
        "colab_type": "text"
      },
      "source": [
        "<a href=\"https://colab.research.google.com/github/JunaidAkhter/Physics-informed-DeepONets/blob/main/PytorchAntider.ipynb\" target=\"_parent\"><img src=\"https://colab.research.google.com/assets/colab-badge.svg\" alt=\"Open In Colab\"/></a>"
      ]
    },
    {
      "cell_type": "markdown",
      "source": [
        "# `Pytorch` implementation of Physics informed DeepOnet to solve \n",
        "$$\n",
        "\\frac{ds(x)}{dx} = u(x), \\hspace{1cm} x ∈[0, 1]\n",
        "$$\n",
        "**Literature:**\n",
        "\n",
        "\n",
        "1.   [DeepOnets](https://arxiv.org/pdf/1910.03193.pdf)\n",
        "2.   [Physics Informed DeepONets](https://arxiv.org/pdf/2103.10974.pdf)\n",
        "\n"
      ],
      "metadata": {
        "id": "tiLrS670EGM6"
      }
    },
    {
      "cell_type": "code",
      "execution_count": 2,
      "metadata": {
        "id": "ulYqHZCP6Hxz"
      },
      "outputs": [],
      "source": [
        "#@title importing modules\n",
        "import numpy as onp\n",
        "import jax.numpy as np\n",
        "from jax import random, grad, vmap, jit\n",
        "from jax.example_libraries import optimizers\n",
        "from jax.experimental.ode import odeint\n",
        "from jax.nn import relu\n",
        "from jax.config import config\n",
        "\n",
        "import itertools\n",
        "from functools import partial\n",
        "from torch.utils import data\n",
        "from tqdm import trange\n",
        "import matplotlib.pyplot as plt\n",
        "\n",
        "%matplotlib inline"
      ]
    },
    {
      "cell_type": "markdown",
      "source": [
        "### Let us generate the data first. \n",
        "We use RBF to generate the training and the testing data. \\\\\n",
        "**Note:** The data is being generated using `Jax`. However, we use Pytorch for learning. Hence we convert the generated data to numpy arrays which is later on converted to `torch` tensors. "
      ],
      "metadata": {
        "id": "fUKGNYq9CXec"
      }
    },
    {
      "cell_type": "code",
      "source": [
        "#@title RBF and data generation. \n",
        "# Length scale of a Gaussian random field (GRF)\n",
        "length_scale = 0.2\n",
        "\n",
        "# Define RBF kernel\n",
        "def RBF(x1, x2, params):\n",
        "    output_scale, lengthscales = params\n",
        "    diffs = np.expand_dims(x1 / lengthscales, 1) - \\\n",
        "            np.expand_dims(x2 / lengthscales, 0)\n",
        "    r2 = np.sum(diffs**2, axis=2)\n",
        "    return output_scale * np.exp(-0.5 * r2)\n",
        "\n",
        "# Geneate training data corresponding to one input sample\n",
        "def generate_one_training_data(key, m=100, P=1):\n",
        "    # Sample GP prior at a fine grid\n",
        "    N = 512\n",
        "    gp_params = (1.0, length_scale)\n",
        "    jitter = 1e-10\n",
        "    X = np.linspace(0, 1, N)[:,None]\n",
        "    K = RBF(X, X, gp_params)\n",
        "    L = np.linalg.cholesky(K + jitter*np.eye(N))\n",
        "    gp_sample = np.dot(L, random.normal(key, (N,)))\n",
        "\n",
        "    # Create a callable interpolation function  \n",
        "    u_fn = lambda x, t: np.interp(t, X.flatten(), gp_sample)\n",
        "\n",
        "    # Input sensor locations and measurements\n",
        "    x = np.linspace(0, 1, m)\n",
        "    u = vmap(u_fn, in_axes=(None,0))(0.0, x)\n",
        "\n",
        "    # Output sensor locations and measurements\n",
        "    y_train = random.uniform(key, (P,)).sort() \n",
        "    s_train = odeint(u_fn, 0.0, np.hstack((0.0, y_train)))[1:] # JAX has a bug and always returns s(0), so add a dummy entry to y and return s[1:]\n",
        "\n",
        "    # Tile inputs\n",
        "    u_train = np.tile(u, (P,1))\n",
        "\n",
        "    # training data for the residual\n",
        "    u_r_train = np.tile(u, (m, 1))  # CREATES m COPIES of u.  \n",
        "    y_r_train = x\n",
        "    s_r_train = u    # STUPID NAMING WALLAHI\n",
        "\n",
        "    #print(\"shape of u_r_train:\", u_r_train.shape)\n",
        "    #print(\"shape of s_r_train:\", s_r_train.shape)\n",
        "\n",
        "    return u_train, y_train, s_train, u_r_train, y_r_train,  s_r_train\n",
        "\n",
        "# Geneate test data corresponding to one input sample\n",
        "def generate_one_test_data(key, m=100, P=100):\n",
        "    # Sample GP prior at a fine grid\n",
        "    N = 512\n",
        "    gp_params = (1.0, length_scale)\n",
        "    jitter = 1e-10\n",
        "    X = np.linspace(0, 1, N)[:,None]\n",
        "    K = RBF(X, X, gp_params)\n",
        "    L = np.linalg.cholesky(K + jitter*np.eye(N))\n",
        "    gp_sample = np.dot(L, random.normal(key, (N,)))\n",
        "\n",
        "    # Create a callable interpolation function  \n",
        "    u_fn = lambda x, t: np.interp(t, X.flatten(), gp_sample)\n",
        "\n",
        "    # Input sensor locations and measurements\n",
        "    x = np.linspace(0, 1, m)\n",
        "    u = vmap(u_fn, in_axes=(None,0))(0.0, x)\n",
        "\n",
        "    # Output sensor locations and measurements\n",
        "    y = np.linspace(0, 1, P)\n",
        "    s = odeint(u_fn, 0.0, y)\n",
        "\n",
        "    # Tile inputs\n",
        "    u = np.tile(u, (P,1))\n",
        "\n",
        "    return u, y, s \n",
        "\n",
        "# Geneate training data corresponding to N input sample\n",
        "def generate_training_data(key, N, m, P):\n",
        "    config.update(\"jax_enable_x64\", True)\n",
        "    keys = random.split(key, N)\n",
        "    gen_fn = jit(lambda key: generate_one_training_data(key, m, P))\n",
        "    u_train, y_train, s_train, u_r_train, y_r_train, s_r_train = vmap(gen_fn)(keys)\n",
        "\n",
        "    u_train = np.float32(u_train.reshape(N * P,-1))\n",
        "    y_train = np.float32(y_train.reshape(N * P,-1))\n",
        "    s_train = np.float32(s_train.reshape(N * P,-1))\n",
        "\n",
        "    u_r_train = np.float32(u_r_train.reshape(N * m,-1))\n",
        "    y_r_train = np.float32(y_r_train.reshape(N * m,-1))\n",
        "    s_r_train = np.float32(s_r_train.reshape(N * m,-1))\n",
        "\n",
        "    config.update(\"jax_enable_x64\", False)\n",
        "    return u_train, y_train, s_train, u_r_train, y_r_train,  s_r_train\n",
        "\n",
        "# Geneate test data corresponding to N input sample\n",
        "def generate_test_data(key, N, m, P):\n",
        "    config.update(\"jax_enable_x64\", True)\n",
        "    keys = random.split(key, N)\n",
        "    gen_fn = jit(lambda key: generate_one_test_data(key, m, P))\n",
        "    u, y, s = vmap(gen_fn)(keys)\n",
        "    u = np.float32(u.reshape(N * P,-1))\n",
        "    y = np.float32(y.reshape(N * P,-1))\n",
        "    s = np.float32(s.reshape(N * P,-1))\n",
        "\n",
        "    config.update(\"jax_enable_x64\", False)\n",
        "    return u, y, s"
      ],
      "metadata": {
        "id": "nUUN_m8l6QsS"
      },
      "execution_count": 3,
      "outputs": []
    },
    {
      "cell_type": "code",
      "source": [
        "#@title Generating training data and converting jax.numpy to onp\n",
        "N_train = 10000 # number of input samples\n",
        "m = 100 # number of input sensors\n",
        "P_train = 1   # number of output sensors\n",
        "key_train = random.PRNGKey(0) # use different key for generating training data and test data \n",
        "u_train, y_train, s_train, u_r_train, y_r_train, s_r_train = generate_training_data(key_train, N_train, m, P_train)\n",
        "\n",
        "#changing to numpy \n",
        "u_train, y_train, s_train, u_r_train, y_r_train, s_r_train = onp.array(u_train), onp.array(y_train), onp.array(s_train), onp.array(u_r_train), onp.array(y_r_train), onp.array(s_r_train) \n",
        "\n",
        "print(\"type of data that we have now:\", type(u_train), type(y_train), type(s_train), type(u_r_train), type(y_r_train), type(s_r_train))\n",
        "\n"
      ],
      "metadata": {
        "colab": {
          "base_uri": "https://localhost:8080/"
        },
        "id": "E4T4CD8O6ZQl",
        "outputId": "d897b65b-827a-4aaf-83fe-cab6c2cbea2a"
      },
      "execution_count": 4,
      "outputs": [
        {
          "output_type": "stream",
          "name": "stderr",
          "text": [
            "WARNING:jax._src.xla_bridge:No GPU/TPU found, falling back to CPU. (Set TF_CPP_MIN_LOG_LEVEL=0 and rerun for more info.)\n"
          ]
        },
        {
          "output_type": "stream",
          "name": "stdout",
          "text": [
            "type of data that we have now: <class 'numpy.ndarray'> <class 'numpy.ndarray'> <class 'numpy.ndarray'> <class 'numpy.ndarray'> <class 'numpy.ndarray'> <class 'numpy.ndarray'>\n"
          ]
        }
      ]
    },
    {
      "cell_type": "code",
      "source": [
        "#@title Generating test data\n",
        "N_test = 100\n",
        "P_test = m\n",
        "key_test = random.PRNGKey(12345)\n",
        "keys_test = random.split(key_test, N_test)\n",
        "\n",
        "u_test, y_test, s_test =  generate_test_data(key_test, N_test, m, m)\n",
        "\n",
        "u_test, y_test, s_test = onp.array(u_test), onp.array(y_test), onp.array(s_test)\n",
        "print(type(u_test), type(y_test), type(s_test))"
      ],
      "metadata": {
        "colab": {
          "base_uri": "https://localhost:8080/"
        },
        "id": "nI5ztq7hB7J7",
        "outputId": "716d3d00-1ed4-4bde-ad62-816edf7c4069"
      },
      "execution_count": 5,
      "outputs": [
        {
          "output_type": "stream",
          "name": "stdout",
          "text": [
            "<class 'numpy.ndarray'> <class 'numpy.ndarray'> <class 'numpy.ndarray'>\n"
          ]
        }
      ]
    },
    {
      "cell_type": "markdown",
      "source": [
        "## Solving the Problem\n",
        "Now that we have the data (as numpy arrays which can easily be converted to torch tensors), we would like to use this to learn the operator $G$ as discussed in the paper [Physics Informed DeepONets](https://arxiv.org/pdf/2103.10974.pdf).\n",
        "\n",
        "\n"
      ],
      "metadata": {
        "id": "I01vP3GjFRF8"
      }
    },
    {
      "cell_type": "code",
      "source": [
        "import torch\n",
        "import torch.nn as nn\n",
        "import torch.nn.functional as F\n",
        "import numpy as np\n",
        "import torch\n",
        "from torch.autograd import grad\n",
        "from torch.utils.data import DataLoader\n",
        "from torch.optim.lr_scheduler import ExponentialLR\n",
        "import itertools\n",
        "from functools import partial\n",
        "from torch.utils import data\n",
        "from tqdm import trange\n",
        "import matplotlib.pyplot as plt\n",
        "from torch.utils.data import Dataset\n",
        "from typing import Callable\n"
      ],
      "metadata": {
        "id": "WJOQZ7O66gTM"
      },
      "execution_count": 6,
      "outputs": []
    },
    {
      "cell_type": "code",
      "source": [
        "#@title Defining the DataGenerator() class which will be used for batching. \n",
        "class DataGenerator(Dataset):\n",
        "\n",
        "    \"\"\"The inputs should be provided as numpy arrays\"\"\"\n",
        "\n",
        "    def __init__(self, u, y, s, batch_size=64):\n",
        "        self.u = torch.tensor(u, requires_grad=True)  # Convert to PyTorch tensor\n",
        "        self.y = torch.tensor(y, requires_grad=True)  # Convert to PyTorch tensor\n",
        "        self.s = torch.tensor(s, requires_grad=True)  # Convert to PyTorch tensor\n",
        "        \n",
        "        self.N = u.shape[0]\n",
        "        self.batch_size = batch_size\n",
        "\n",
        "    def __len__(self):\n",
        "        return self.N // self.batch_size\n",
        "\n",
        "    def __getitem__(self, index):\n",
        "        start = index * self.batch_size\n",
        "        end = (index + 1) * self.batch_size\n",
        "\n",
        "        inputs, outputs = self.__data_generation(start, end)\n",
        "        return inputs, outputs\n",
        "\n",
        "    def __data_generation(self, start, end):\n",
        "        idx = torch.randperm(self.N, device=self.u.device)[start:end]\n",
        "        s = self.s[idx]\n",
        "        y = self.y[idx]\n",
        "        u = self.u[idx]\n",
        "        \n",
        "        inputs = (u, y)\n",
        "        outputs = s\n",
        "        return inputs, outputs\n"
      ],
      "metadata": {
        "id": "K-ksv31J70Y2"
      },
      "execution_count": 7,
      "outputs": []
    },
    {
      "cell_type": "code",
      "source": [
        "# Create data set\n",
        "batch_size = 10   #TODO: bigger batches do not work for some reasons. \n",
        "operator_dataset = DataGenerator(u_train, y_train, s_train, batch_size)\n",
        "physics_dataset = DataGenerator(u_r_train, y_r_train, s_r_train, batch_size)"
      ],
      "metadata": {
        "id": "IZXSqXTg78DF"
      },
      "execution_count": 31,
      "outputs": []
    },
    {
      "cell_type": "markdown",
      "source": [
        "## Defining the DeepOnet"
      ],
      "metadata": {
        "id": "EbUvcOjRIudt"
      }
    },
    {
      "cell_type": "code",
      "source": [
        "# Define the Vanilla PyTorch model\n",
        "class MLP(nn.Module):\n",
        "    def __init__(self, layers, activation=F.relu):\n",
        "        super(MLP, self).__init__()\n",
        "        self.activation = activation\n",
        "        self.layers = nn.ModuleList()\n",
        "        for i in range(len(layers)-1):\n",
        "            self.layers.append(nn.Linear(layers[i], layers[i+1]))\n",
        "\n",
        "    def forward(self, x):\n",
        "        for layer in self.layers[:-1]:\n",
        "            x = self.activation(layer(x))\n",
        "        x = self.layers[-1](x)\n",
        "        return x"
      ],
      "metadata": {
        "id": "tEC_UDe38JIm"
      },
      "execution_count": 19,
      "outputs": []
    },
    {
      "cell_type": "code",
      "source": [
        "#@title DeepOnet class\n",
        "class DeepONet(nn.Module):\n",
        "    def __init__(self, branch_layers, trunk_layers):    \n",
        "        super(DeepONet, self).__init__()\n",
        "\n",
        "        self.branch = MLP(branch_layers, torch.tanh)\n",
        "        self.trunk = MLP(trunk_layers, torch.tanh)\n",
        "\n",
        "    def forward(self, u, y):\n",
        "        B = self.branch(u)\n",
        "        T = self.trunk(y)\n",
        "        #print(\"B\", B)\n",
        "        outputs = torch.sum(B * T, dim=-1)                                   #WHY IS dim = -1 here?\n",
        "        return outputs\n"
      ],
      "metadata": {
        "id": "MPZka2GC8QBL"
      },
      "execution_count": 20,
      "outputs": []
    },
    {
      "cell_type": "code",
      "source": [
        "#@title evaluation and derrivatives\n",
        "def s(model: nn.Module(), u: torch.Tensor, y: torch.Tensor) -> torch.Tensor:\n",
        "    \"\"\"Compute the value of the approximate solution from the DeepONet model\"\"\"\n",
        "    return model(u, y)\n",
        "\n",
        "\n",
        "def ds(model: nn.Module(), u: torch.Tensor, y: torch.Tensor, order: int = 1) -> torch.Tensor:\n",
        "    \"\"\"Compute neural network derivative with respect to input features using PyTorch autograd engine\"\"\"\n",
        "\n",
        "    df_value = s(model, u, y)\n",
        "\n",
        "\n",
        "    for _ in range(order):\n",
        "        df_value = torch.autograd.grad(\n",
        "            df_value.reshape((-1, 1)),\n",
        "            y,\n",
        "            grad_outputs=torch.ones_like(y),\n",
        "            create_graph=True,\n",
        "            retain_graph=True,\n",
        "        )[0]\n",
        "\n",
        "    return df_value\n"
      ],
      "metadata": {
        "id": "tNssBTyi8V0_"
      },
      "execution_count": 21,
      "outputs": []
    },
    {
      "cell_type": "markdown",
      "source": [
        "## Defining loss functions that we want to minimize"
      ],
      "metadata": {
        "id": "Wj3NWxLuJHY2"
      }
    },
    {
      "cell_type": "code",
      "source": [
        "\n",
        "def residue(model:nn.Module(), u, y):\n",
        "\n",
        "    #TODO: adapt it to higer order derrivatives. Maybe we need to create a resideue class and define df inside it. \n",
        "\n",
        "    return ds(model,u, y)\n",
        "\n",
        "\n",
        "# Define operator loss\n",
        "def loss_operator(model:nn.Module, batch):\n",
        "    inputs, outputs = batch\n",
        "    u, y = inputs\n",
        "    \n",
        "    pred = s(model, u, y)\n",
        "\n",
        "    #printing the size of each array as I realised that I was getting empty arrays with larger batch sizes. \n",
        "    print(\"size of pred:\", len(pred))\n",
        "    print(\"size of u:\", len(u))\n",
        "    print(\"size of y:\", len(y))\n",
        "\n",
        "\n",
        "    #pred = self(u, y)                                                  #STUPID LINE BY CHAT GPT\n",
        "    loss = torch.mean((outputs.view(-1) - pred.view(-1))**2)\n",
        "    return loss\n",
        "\n",
        "def loss_physics(model:nn.Module(), batch):\n",
        "\n",
        "    #TODO: clear the air regarding this loss. I think the formulation in the original code is wrong. \n",
        "\n",
        "    inputs, outputs = batch\n",
        "    u, y = inputs\n",
        "    \n",
        "    pred = residue(model, u, y)\n",
        "    \n",
        "\n",
        "    loss = torch.mean((outputs.view(-1) - pred.view(-1))**2)\n",
        "\n",
        "    return loss \n",
        "\n",
        "\n",
        "def total_loss(model:nn.Module(), operator_batch, physics_batch):\n",
        "    \"\"\"Summing up the two losses\"\"\"\n",
        "    #TODO: One can think of weighed sum of the two losses instead of plain sum. \n",
        "    loss_op = loss_operator(model, operator_batch)\n",
        "    loss_ph = loss_physics(model, physics_batch)\n",
        "\n",
        "    return loss_op + loss_ph\n"
      ],
      "metadata": {
        "id": "gBGAN-mt8Z5Y"
      },
      "execution_count": 26,
      "outputs": []
    },
    {
      "cell_type": "markdown",
      "source": [
        "## Finally we can train the model. "
      ],
      "metadata": {
        "id": "aZ6sfcILJUDA"
      }
    },
    {
      "cell_type": "code",
      "source": [
        "def train(model:nn.Module(), \n",
        "    operator_dataset, \n",
        "    physics_dataset, \n",
        "#    loss_fn: Callable,  #TODO: Make this callable like PINN script\n",
        "    initial_learning_rate: \n",
        "    int = 0.01,\n",
        "    max_epochs: int = 200,\n",
        ")-> nn.Module():\n",
        "\n",
        "    #TODO: Put the following two parameters in arguments. \n",
        "    decay_steps = 1000\n",
        "    decay_rate = 0.9\n",
        "\n",
        "\n",
        "    operator_data = iter(operator_dataset)\n",
        "    physics_data = iter(physics_dataset)\n",
        "\n",
        "    pbar = trange(max_epochs)\n",
        "    for epoch in pbar:\n",
        "\n",
        "        operator_batch = next(operator_data)\n",
        "        physics_batch = next(physics_data)\n",
        "\n",
        "\n",
        "        # decaying learning rate\n",
        "        #learning_rate = initial_learning_rate * (decay_rate**(epoch/decay_steps))\n",
        "        optimizer = torch.optim.Adam(model.parameters(), lr=initial_learning_rate)\n",
        "            \n",
        "        #Optimization step\n",
        "        loss: torch.Tensor = total_loss(model, operator_batch, physics_batch)\n",
        "        optimizer.zero_grad()\n",
        "        loss.backward()\n",
        "        optimizer.step()\n",
        "\n",
        "        if epoch % 50 == 0:\n",
        "            \n",
        "            #compute losses\n",
        "            loss_value = total_loss(model, operator_batch, physics_batch)\n",
        "            loss_operator_value = loss_operator(model, operator_batch)\n",
        "            loss_physics_value = loss_physics(model, physics_batch)\n",
        "\n",
        "            print(f\"Epoch: {epoch} - Loss: {float(loss_value):>7f}\", \n",
        "                    f\"Loss Physics: {float(loss_physics_value):>7f}\"\n",
        "                        f\"Loss Operator: {float(loss_operator_value):>7f}\")\n",
        "\n",
        "\n",
        "\n",
        "    return model\n"
      ],
      "metadata": {
        "id": "-xhjdzTr8fXD"
      },
      "execution_count": 23,
      "outputs": []
    },
    {
      "cell_type": "code",
      "source": [
        "# Creating the object PI_DeepOneta\n",
        "m = 100\n",
        "branch_layers = [m, 50, 50, 50, 50, 50]\n",
        "trunk_layers =  [1, 50, 50, 50, 50, 50]\n",
        "model = DeepONet(branch_layers, trunk_layers)"
      ],
      "metadata": {
        "id": "bdjWUZ9X8jB1"
      },
      "execution_count": 32,
      "outputs": []
    },
    {
      "cell_type": "code",
      "source": [
        "#LET US TRAIN THE NETWORK NOW\n",
        "#loss_fn = partial(total_loss, ) #TODO: complete this to make loss_fn callable\n",
        "trained_model = train(model, operator_dataset, physics_dataset)"
      ],
      "metadata": {
        "colab": {
          "base_uri": "https://localhost:8080/"
        },
        "id": "yejH6kkg8oAW",
        "outputId": "a412f9fd-1194-40db-b300-27797fc53cdf"
      },
      "execution_count": null,
      "outputs": [
        {
          "output_type": "stream",
          "name": "stderr",
          "text": [
            "\r  0%|          | 0/200 [00:00<?, ?it/s]"
          ]
        },
        {
          "output_type": "stream",
          "name": "stdout",
          "text": [
            "size of pred: 10\n",
            "size of u: 10\n",
            "size of y: 10\n"
          ]
        },
        {
          "output_type": "stream",
          "name": "stderr",
          "text": [
            "\r  0%|          | 1/200 [00:00<01:02,  3.21it/s]"
          ]
        },
        {
          "output_type": "stream",
          "name": "stdout",
          "text": [
            "size of pred: 10\n",
            "size of u: 10\n",
            "size of y: 10\n",
            "size of pred: 10\n",
            "size of u: 10\n",
            "size of y: 10\n",
            "Epoch: 0 - Loss: 0.868468 Loss Physics: 0.816059Loss Operator: 0.052409\n",
            "size of pred: 10\n",
            "size of u: 10\n",
            "size of y: 10\n"
          ]
        },
        {
          "output_type": "stream",
          "name": "stderr",
          "text": [
            "\r  1%|          | 2/200 [00:00<01:11,  2.76it/s]"
          ]
        },
        {
          "output_type": "stream",
          "name": "stdout",
          "text": [
            "size of pred: 10\n",
            "size of u: 10\n",
            "size of y: 10\n"
          ]
        },
        {
          "output_type": "stream",
          "name": "stderr",
          "text": [
            "\r  2%|▏         | 3/200 [00:01<01:09,  2.85it/s]"
          ]
        },
        {
          "output_type": "stream",
          "name": "stdout",
          "text": [
            "size of pred: 10\n",
            "size of u: 10\n",
            "size of y: 10\n"
          ]
        },
        {
          "output_type": "stream",
          "name": "stderr",
          "text": [
            "\r  2%|▏         | 4/200 [00:01<01:07,  2.88it/s]"
          ]
        },
        {
          "output_type": "stream",
          "name": "stdout",
          "text": [
            "size of pred: 10\n",
            "size of u: 10\n",
            "size of y: 10\n"
          ]
        },
        {
          "output_type": "stream",
          "name": "stderr",
          "text": [
            "\r  2%|▎         | 5/200 [00:01<01:07,  2.87it/s]"
          ]
        },
        {
          "output_type": "stream",
          "name": "stdout",
          "text": [
            "size of pred: 10\n",
            "size of u: 10\n",
            "size of y: 10\n"
          ]
        },
        {
          "output_type": "stream",
          "name": "stderr",
          "text": [
            "\r  3%|▎         | 6/200 [00:02<01:06,  2.91it/s]"
          ]
        },
        {
          "output_type": "stream",
          "name": "stdout",
          "text": [
            "size of pred: 10\n",
            "size of u: 10\n",
            "size of y: 10\n"
          ]
        },
        {
          "output_type": "stream",
          "name": "stderr",
          "text": [
            "\r  4%|▎         | 7/200 [00:02<01:05,  2.93it/s]"
          ]
        },
        {
          "output_type": "stream",
          "name": "stdout",
          "text": [
            "size of pred: 10\n",
            "size of u: 10\n",
            "size of y: 10\n"
          ]
        },
        {
          "output_type": "stream",
          "name": "stderr",
          "text": [
            "\r  4%|▍         | 8/200 [00:02<01:05,  2.94it/s]"
          ]
        },
        {
          "output_type": "stream",
          "name": "stdout",
          "text": [
            "size of pred: 10\n",
            "size of u: 10\n",
            "size of y: 10\n"
          ]
        },
        {
          "output_type": "stream",
          "name": "stderr",
          "text": [
            "\r  4%|▍         | 9/200 [00:03<01:04,  2.97it/s]"
          ]
        },
        {
          "output_type": "stream",
          "name": "stdout",
          "text": [
            "size of pred: 10\n",
            "size of u: 10\n",
            "size of y: 10\n"
          ]
        },
        {
          "output_type": "stream",
          "name": "stderr",
          "text": [
            "\r  5%|▌         | 10/200 [00:03<01:04,  2.96it/s]"
          ]
        },
        {
          "output_type": "stream",
          "name": "stdout",
          "text": [
            "size of pred: 10\n",
            "size of u: 10\n",
            "size of y: 10\n"
          ]
        },
        {
          "output_type": "stream",
          "name": "stderr",
          "text": [
            "\r  6%|▌         | 11/200 [00:03<01:04,  2.95it/s]"
          ]
        },
        {
          "output_type": "stream",
          "name": "stdout",
          "text": [
            "size of pred: 10\n",
            "size of u: 10\n",
            "size of y: 10\n"
          ]
        },
        {
          "output_type": "stream",
          "name": "stderr",
          "text": [
            "\r  6%|▌         | 12/200 [00:04<01:04,  2.93it/s]"
          ]
        },
        {
          "output_type": "stream",
          "name": "stdout",
          "text": [
            "size of pred: 10\n",
            "size of u: 10\n",
            "size of y: 10\n"
          ]
        },
        {
          "output_type": "stream",
          "name": "stderr",
          "text": [
            "\r  6%|▋         | 13/200 [00:04<01:03,  2.95it/s]"
          ]
        },
        {
          "output_type": "stream",
          "name": "stdout",
          "text": [
            "size of pred: 10\n",
            "size of u: 10\n",
            "size of y: 10\n"
          ]
        },
        {
          "output_type": "stream",
          "name": "stderr",
          "text": [
            "\r  7%|▋         | 14/200 [00:04<01:03,  2.95it/s]"
          ]
        },
        {
          "output_type": "stream",
          "name": "stdout",
          "text": [
            "size of pred: 10\n",
            "size of u: 10\n",
            "size of y: 10\n"
          ]
        },
        {
          "output_type": "stream",
          "name": "stderr",
          "text": [
            "\r  8%|▊         | 15/200 [00:05<01:02,  2.96it/s]"
          ]
        },
        {
          "output_type": "stream",
          "name": "stdout",
          "text": [
            "size of pred: 10\n",
            "size of u: 10\n",
            "size of y: 10\n"
          ]
        },
        {
          "output_type": "stream",
          "name": "stderr",
          "text": [
            "\r  8%|▊         | 16/200 [00:05<01:02,  2.95it/s]"
          ]
        },
        {
          "output_type": "stream",
          "name": "stdout",
          "text": [
            "size of pred: 10\n",
            "size of u: 10\n",
            "size of y: 10\n"
          ]
        },
        {
          "output_type": "stream",
          "name": "stderr",
          "text": [
            "\r  8%|▊         | 17/200 [00:05<01:02,  2.93it/s]"
          ]
        },
        {
          "output_type": "stream",
          "name": "stdout",
          "text": [
            "size of pred: 10\n",
            "size of u: 10\n",
            "size of y: 10\n"
          ]
        },
        {
          "output_type": "stream",
          "name": "stderr",
          "text": [
            "\r  9%|▉         | 18/200 [00:06<01:01,  2.94it/s]"
          ]
        },
        {
          "output_type": "stream",
          "name": "stdout",
          "text": [
            "size of pred: 10\n",
            "size of u: 10\n",
            "size of y: 10\n"
          ]
        },
        {
          "output_type": "stream",
          "name": "stderr",
          "text": [
            "\r 10%|▉         | 19/200 [00:06<01:01,  2.93it/s]"
          ]
        },
        {
          "output_type": "stream",
          "name": "stdout",
          "text": [
            "size of pred: 10\n",
            "size of u: 10\n",
            "size of y: 10\n"
          ]
        },
        {
          "output_type": "stream",
          "name": "stderr",
          "text": [
            "\r 10%|█         | 20/200 [00:06<01:06,  2.72it/s]"
          ]
        },
        {
          "output_type": "stream",
          "name": "stdout",
          "text": [
            "size of pred: 10\n",
            "size of u: 10\n",
            "size of y: 10\n"
          ]
        },
        {
          "output_type": "stream",
          "name": "stderr",
          "text": [
            "\r 10%|█         | 21/200 [00:07<01:09,  2.56it/s]"
          ]
        },
        {
          "output_type": "stream",
          "name": "stdout",
          "text": [
            "size of pred: 10\n",
            "size of u: 10\n",
            "size of y: 10\n"
          ]
        },
        {
          "output_type": "stream",
          "name": "stderr",
          "text": [
            "\r 11%|█         | 22/200 [00:07<01:12,  2.45it/s]"
          ]
        },
        {
          "output_type": "stream",
          "name": "stdout",
          "text": [
            "size of pred: 10\n",
            "size of u: 10\n",
            "size of y: 10\n"
          ]
        },
        {
          "output_type": "stream",
          "name": "stderr",
          "text": [
            "\r 12%|█▏        | 23/200 [00:08<01:15,  2.35it/s]"
          ]
        },
        {
          "output_type": "stream",
          "name": "stdout",
          "text": [
            "size of pred: 10\n",
            "size of u: 10\n",
            "size of y: 10\n"
          ]
        },
        {
          "output_type": "stream",
          "name": "stderr",
          "text": [
            "\r 12%|█▏        | 24/200 [00:08<01:15,  2.32it/s]"
          ]
        },
        {
          "output_type": "stream",
          "name": "stdout",
          "text": [
            "size of pred: 10\n",
            "size of u: 10\n",
            "size of y: 10\n"
          ]
        },
        {
          "output_type": "stream",
          "name": "stderr",
          "text": [
            "\r 12%|█▎        | 25/200 [00:09<01:14,  2.36it/s]"
          ]
        },
        {
          "output_type": "stream",
          "name": "stdout",
          "text": [
            "size of pred: 10\n",
            "size of u: 10\n",
            "size of y: 10\n"
          ]
        },
        {
          "output_type": "stream",
          "name": "stderr",
          "text": [
            "\r 13%|█▎        | 26/200 [00:09<01:08,  2.52it/s]"
          ]
        },
        {
          "output_type": "stream",
          "name": "stdout",
          "text": [
            "size of pred: 10\n",
            "size of u: 10\n",
            "size of y: 10\n"
          ]
        },
        {
          "output_type": "stream",
          "name": "stderr",
          "text": [
            "\r 14%|█▎        | 27/200 [00:09<01:05,  2.65it/s]"
          ]
        },
        {
          "output_type": "stream",
          "name": "stdout",
          "text": [
            "size of pred: 10\n",
            "size of u: 10\n",
            "size of y: 10\n"
          ]
        },
        {
          "output_type": "stream",
          "name": "stderr",
          "text": [
            "\r 14%|█▍        | 28/200 [00:10<01:02,  2.74it/s]"
          ]
        },
        {
          "output_type": "stream",
          "name": "stdout",
          "text": [
            "size of pred: 10\n",
            "size of u: 10\n",
            "size of y: 10\n"
          ]
        },
        {
          "output_type": "stream",
          "name": "stderr",
          "text": [
            "\r 14%|█▍        | 29/200 [00:10<01:00,  2.81it/s]"
          ]
        },
        {
          "output_type": "stream",
          "name": "stdout",
          "text": [
            "size of pred: 10\n",
            "size of u: 10\n",
            "size of y: 10\n"
          ]
        },
        {
          "output_type": "stream",
          "name": "stderr",
          "text": [
            "\r 15%|█▌        | 30/200 [00:10<00:59,  2.85it/s]"
          ]
        },
        {
          "output_type": "stream",
          "name": "stdout",
          "text": [
            "size of pred: 10\n",
            "size of u: 10\n",
            "size of y: 10\n"
          ]
        },
        {
          "output_type": "stream",
          "name": "stderr",
          "text": [
            "\r 16%|█▌        | 31/200 [00:11<00:58,  2.87it/s]"
          ]
        },
        {
          "output_type": "stream",
          "name": "stdout",
          "text": [
            "size of pred: 10\n",
            "size of u: 10\n",
            "size of y: 10\n"
          ]
        },
        {
          "output_type": "stream",
          "name": "stderr",
          "text": [
            "\r 16%|█▌        | 32/200 [00:11<00:57,  2.91it/s]"
          ]
        },
        {
          "output_type": "stream",
          "name": "stdout",
          "text": [
            "size of pred: 10\n",
            "size of u: 10\n",
            "size of y: 10\n"
          ]
        },
        {
          "output_type": "stream",
          "name": "stderr",
          "text": [
            "\r 16%|█▋        | 33/200 [00:11<00:57,  2.89it/s]"
          ]
        },
        {
          "output_type": "stream",
          "name": "stdout",
          "text": [
            "size of pred: 10\n",
            "size of u: 10\n",
            "size of y: 10\n"
          ]
        },
        {
          "output_type": "stream",
          "name": "stderr",
          "text": [
            "\r 17%|█▋        | 34/200 [00:12<00:57,  2.88it/s]"
          ]
        },
        {
          "output_type": "stream",
          "name": "stdout",
          "text": [
            "size of pred: 10\n",
            "size of u: 10\n",
            "size of y: 10\n"
          ]
        },
        {
          "output_type": "stream",
          "name": "stderr",
          "text": [
            "\r 18%|█▊        | 35/200 [00:12<00:56,  2.90it/s]"
          ]
        },
        {
          "output_type": "stream",
          "name": "stdout",
          "text": [
            "size of pred: 10\n",
            "size of u: 10\n",
            "size of y: 10\n"
          ]
        },
        {
          "output_type": "stream",
          "name": "stderr",
          "text": [
            "\r 18%|█▊        | 36/200 [00:12<00:56,  2.92it/s]"
          ]
        },
        {
          "output_type": "stream",
          "name": "stdout",
          "text": [
            "size of pred: 10\n",
            "size of u: 10\n",
            "size of y: 10\n"
          ]
        },
        {
          "output_type": "stream",
          "name": "stderr",
          "text": [
            "\r 18%|█▊        | 37/200 [00:13<00:55,  2.93it/s]"
          ]
        },
        {
          "output_type": "stream",
          "name": "stdout",
          "text": [
            "size of pred: 10\n",
            "size of u: 10\n",
            "size of y: 10\n"
          ]
        },
        {
          "output_type": "stream",
          "name": "stderr",
          "text": [
            "\r 19%|█▉        | 38/200 [00:13<00:55,  2.93it/s]"
          ]
        },
        {
          "output_type": "stream",
          "name": "stdout",
          "text": [
            "size of pred: 10\n",
            "size of u: 10\n",
            "size of y: 10\n"
          ]
        },
        {
          "output_type": "stream",
          "name": "stderr",
          "text": [
            "\r 20%|█▉        | 39/200 [00:13<00:54,  2.93it/s]"
          ]
        },
        {
          "output_type": "stream",
          "name": "stdout",
          "text": [
            "size of pred: 10\n",
            "size of u: 10\n",
            "size of y: 10\n"
          ]
        },
        {
          "output_type": "stream",
          "name": "stderr",
          "text": [
            "\r 20%|██        | 40/200 [00:14<00:54,  2.93it/s]"
          ]
        },
        {
          "output_type": "stream",
          "name": "stdout",
          "text": [
            "size of pred: 10\n",
            "size of u: 10\n",
            "size of y: 10\n"
          ]
        },
        {
          "output_type": "stream",
          "name": "stderr",
          "text": [
            "\r 20%|██        | 41/200 [00:14<00:53,  2.97it/s]"
          ]
        },
        {
          "output_type": "stream",
          "name": "stdout",
          "text": [
            "size of pred: 10\n",
            "size of u: 10\n",
            "size of y: 10\n"
          ]
        },
        {
          "output_type": "stream",
          "name": "stderr",
          "text": [
            "\r 21%|██        | 42/200 [00:14<00:53,  2.94it/s]"
          ]
        },
        {
          "output_type": "stream",
          "name": "stdout",
          "text": [
            "size of pred: 10\n",
            "size of u: 10\n",
            "size of y: 10\n"
          ]
        },
        {
          "output_type": "stream",
          "name": "stderr",
          "text": [
            "\r 22%|██▏       | 43/200 [00:15<00:53,  2.93it/s]"
          ]
        },
        {
          "output_type": "stream",
          "name": "stdout",
          "text": [
            "size of pred: 10\n",
            "size of u: 10\n",
            "size of y: 10\n"
          ]
        },
        {
          "output_type": "stream",
          "name": "stderr",
          "text": [
            "\r 22%|██▏       | 44/200 [00:15<00:52,  2.95it/s]"
          ]
        },
        {
          "output_type": "stream",
          "name": "stdout",
          "text": [
            "size of pred: 10\n",
            "size of u: 10\n",
            "size of y: 10\n"
          ]
        },
        {
          "output_type": "stream",
          "name": "stderr",
          "text": [
            "\r 22%|██▎       | 45/200 [00:15<00:52,  2.97it/s]"
          ]
        },
        {
          "output_type": "stream",
          "name": "stdout",
          "text": [
            "size of pred: 10\n",
            "size of u: 10\n",
            "size of y: 10\n"
          ]
        },
        {
          "output_type": "stream",
          "name": "stderr",
          "text": [
            "\r 23%|██▎       | 46/200 [00:16<00:52,  2.95it/s]"
          ]
        },
        {
          "output_type": "stream",
          "name": "stdout",
          "text": [
            "size of pred: 10\n",
            "size of u: 10\n",
            "size of y: 10\n"
          ]
        },
        {
          "output_type": "stream",
          "name": "stderr",
          "text": [
            "\r 24%|██▎       | 47/200 [00:16<00:51,  2.96it/s]"
          ]
        },
        {
          "output_type": "stream",
          "name": "stdout",
          "text": [
            "size of pred: 10\n",
            "size of u: 10\n",
            "size of y: 10\n"
          ]
        },
        {
          "output_type": "stream",
          "name": "stderr",
          "text": [
            "\r 24%|██▍       | 48/200 [00:16<00:51,  2.95it/s]"
          ]
        },
        {
          "output_type": "stream",
          "name": "stdout",
          "text": [
            "size of pred: 10\n",
            "size of u: 10\n",
            "size of y: 10\n"
          ]
        },
        {
          "output_type": "stream",
          "name": "stderr",
          "text": [
            "\r 24%|██▍       | 49/200 [00:17<00:51,  2.94it/s]"
          ]
        },
        {
          "output_type": "stream",
          "name": "stdout",
          "text": [
            "size of pred: 10\n",
            "size of u: 10\n",
            "size of y: 10\n"
          ]
        },
        {
          "output_type": "stream",
          "name": "stderr",
          "text": [
            "\r 25%|██▌       | 50/200 [00:17<00:50,  2.95it/s]"
          ]
        },
        {
          "output_type": "stream",
          "name": "stdout",
          "text": [
            "size of pred: 10\n",
            "size of u: 10\n",
            "size of y: 10\n"
          ]
        },
        {
          "output_type": "stream",
          "name": "stderr",
          "text": [
            "\r 26%|██▌       | 51/200 [00:17<00:50,  2.94it/s]"
          ]
        },
        {
          "output_type": "stream",
          "name": "stdout",
          "text": [
            "size of pred: 10\n",
            "size of u: 10\n",
            "size of y: 10\n",
            "size of pred: 10\n",
            "size of u: 10\n",
            "size of y: 10\n",
            "Epoch: 50 - Loss: 2.055845 Loss Physics: 1.385441Loss Operator: 0.670404\n",
            "size of pred: 10\n",
            "size of u: 10\n",
            "size of y: 10\n"
          ]
        },
        {
          "output_type": "stream",
          "name": "stderr",
          "text": [
            "\r 26%|██▌       | 52/200 [00:18<00:50,  2.91it/s]"
          ]
        },
        {
          "output_type": "stream",
          "name": "stdout",
          "text": [
            "size of pred: 10\n",
            "size of u: 10\n",
            "size of y: 10\n"
          ]
        },
        {
          "output_type": "stream",
          "name": "stderr",
          "text": [
            "\r 26%|██▋       | 53/200 [00:18<00:49,  2.94it/s]"
          ]
        },
        {
          "output_type": "stream",
          "name": "stdout",
          "text": [
            "size of pred: 10\n",
            "size of u: 10\n",
            "size of y: 10\n"
          ]
        },
        {
          "output_type": "stream",
          "name": "stderr",
          "text": [
            "\r 27%|██▋       | 54/200 [00:18<00:49,  2.95it/s]"
          ]
        },
        {
          "output_type": "stream",
          "name": "stdout",
          "text": [
            "size of pred: 10\n",
            "size of u: 10\n",
            "size of y: 10\n"
          ]
        },
        {
          "output_type": "stream",
          "name": "stderr",
          "text": [
            "\r 28%|██▊       | 55/200 [00:19<00:53,  2.72it/s]"
          ]
        },
        {
          "output_type": "stream",
          "name": "stdout",
          "text": [
            "size of pred: 10\n",
            "size of u: 10\n",
            "size of y: 10\n"
          ]
        },
        {
          "output_type": "stream",
          "name": "stderr",
          "text": [
            "\r 28%|██▊       | 56/200 [00:19<00:56,  2.55it/s]"
          ]
        },
        {
          "output_type": "stream",
          "name": "stdout",
          "text": [
            "size of pred: 10\n",
            "size of u: 10\n",
            "size of y: 10\n"
          ]
        },
        {
          "output_type": "stream",
          "name": "stderr",
          "text": [
            "\r 28%|██▊       | 57/200 [00:20<00:58,  2.45it/s]"
          ]
        },
        {
          "output_type": "stream",
          "name": "stdout",
          "text": [
            "size of pred: 10\n",
            "size of u: 10\n",
            "size of y: 10\n"
          ]
        },
        {
          "output_type": "stream",
          "name": "stderr",
          "text": [
            "\r 29%|██▉       | 58/200 [00:20<00:59,  2.41it/s]"
          ]
        },
        {
          "output_type": "stream",
          "name": "stdout",
          "text": [
            "size of pred: 10\n",
            "size of u: 10\n",
            "size of y: 10\n"
          ]
        },
        {
          "output_type": "stream",
          "name": "stderr",
          "text": [
            "\r 30%|██▉       | 59/200 [00:21<01:00,  2.35it/s]"
          ]
        },
        {
          "output_type": "stream",
          "name": "stdout",
          "text": [
            "size of pred: 10\n",
            "size of u: 10\n",
            "size of y: 10\n"
          ]
        },
        {
          "output_type": "stream",
          "name": "stderr",
          "text": [
            "\r 30%|███       | 60/200 [00:21<00:59,  2.36it/s]"
          ]
        },
        {
          "output_type": "stream",
          "name": "stdout",
          "text": [
            "size of pred: 10\n",
            "size of u: 10\n",
            "size of y: 10\n"
          ]
        },
        {
          "output_type": "stream",
          "name": "stderr",
          "text": [
            "\r 30%|███       | 61/200 [00:21<00:55,  2.52it/s]"
          ]
        },
        {
          "output_type": "stream",
          "name": "stdout",
          "text": [
            "size of pred: 10\n",
            "size of u: 10\n",
            "size of y: 10\n"
          ]
        },
        {
          "output_type": "stream",
          "name": "stderr",
          "text": [
            "\r 31%|███       | 62/200 [00:22<00:52,  2.65it/s]"
          ]
        },
        {
          "output_type": "stream",
          "name": "stdout",
          "text": [
            "size of pred: 10\n",
            "size of u: 10\n",
            "size of y: 10\n"
          ]
        },
        {
          "output_type": "stream",
          "name": "stderr",
          "text": [
            "\r 32%|███▏      | 63/200 [00:22<00:50,  2.72it/s]"
          ]
        },
        {
          "output_type": "stream",
          "name": "stdout",
          "text": [
            "size of pred: 10\n",
            "size of u: 10\n",
            "size of y: 10\n"
          ]
        },
        {
          "output_type": "stream",
          "name": "stderr",
          "text": [
            "\r 32%|███▏      | 64/200 [00:22<00:48,  2.79it/s]"
          ]
        },
        {
          "output_type": "stream",
          "name": "stdout",
          "text": [
            "size of pred: 10\n",
            "size of u: 10\n",
            "size of y: 10\n"
          ]
        },
        {
          "output_type": "stream",
          "name": "stderr",
          "text": [
            "\r 32%|███▎      | 65/200 [00:23<00:47,  2.85it/s]"
          ]
        },
        {
          "output_type": "stream",
          "name": "stdout",
          "text": [
            "size of pred: 10\n",
            "size of u: 10\n",
            "size of y: 10\n"
          ]
        },
        {
          "output_type": "stream",
          "name": "stderr",
          "text": [
            "\r 33%|███▎      | 66/200 [00:23<00:46,  2.86it/s]"
          ]
        },
        {
          "output_type": "stream",
          "name": "stdout",
          "text": [
            "size of pred: 10\n",
            "size of u: 10\n",
            "size of y: 10\n"
          ]
        },
        {
          "output_type": "stream",
          "name": "stderr",
          "text": [
            "\r 34%|███▎      | 67/200 [00:23<00:46,  2.88it/s]"
          ]
        },
        {
          "output_type": "stream",
          "name": "stdout",
          "text": [
            "size of pred: 10\n",
            "size of u: 10\n",
            "size of y: 10\n"
          ]
        },
        {
          "output_type": "stream",
          "name": "stderr",
          "text": [
            "\r 34%|███▍      | 68/200 [00:24<00:45,  2.88it/s]"
          ]
        },
        {
          "output_type": "stream",
          "name": "stdout",
          "text": [
            "size of pred: 10\n",
            "size of u: 10\n",
            "size of y: 10\n"
          ]
        },
        {
          "output_type": "stream",
          "name": "stderr",
          "text": [
            "\r 34%|███▍      | 69/200 [00:24<00:45,  2.90it/s]"
          ]
        },
        {
          "output_type": "stream",
          "name": "stdout",
          "text": [
            "size of pred: 10\n",
            "size of u: 10\n",
            "size of y: 10\n"
          ]
        },
        {
          "output_type": "stream",
          "name": "stderr",
          "text": [
            "\r 35%|███▌      | 70/200 [00:24<00:44,  2.93it/s]"
          ]
        },
        {
          "output_type": "stream",
          "name": "stdout",
          "text": [
            "size of pred: 10\n",
            "size of u: 10\n",
            "size of y: 10\n"
          ]
        },
        {
          "output_type": "stream",
          "name": "stderr",
          "text": [
            "\r 36%|███▌      | 71/200 [00:25<00:43,  2.95it/s]"
          ]
        },
        {
          "output_type": "stream",
          "name": "stdout",
          "text": [
            "size of pred: 10\n",
            "size of u: 10\n",
            "size of y: 10\n"
          ]
        },
        {
          "output_type": "stream",
          "name": "stderr",
          "text": [
            "\r 36%|███▌      | 72/200 [00:25<00:43,  2.94it/s]"
          ]
        },
        {
          "output_type": "stream",
          "name": "stdout",
          "text": [
            "size of pred: 10\n",
            "size of u: 10\n",
            "size of y: 10\n"
          ]
        },
        {
          "output_type": "stream",
          "name": "stderr",
          "text": [
            "\r 36%|███▋      | 73/200 [00:25<00:43,  2.95it/s]"
          ]
        },
        {
          "output_type": "stream",
          "name": "stdout",
          "text": [
            "size of pred: 10\n",
            "size of u: 10\n",
            "size of y: 10\n"
          ]
        },
        {
          "output_type": "stream",
          "name": "stderr",
          "text": [
            "\r 37%|███▋      | 74/200 [00:26<00:42,  2.97it/s]"
          ]
        },
        {
          "output_type": "stream",
          "name": "stdout",
          "text": [
            "size of pred: 10\n",
            "size of u: 10\n",
            "size of y: 10\n"
          ]
        },
        {
          "output_type": "stream",
          "name": "stderr",
          "text": [
            "\r 38%|███▊      | 75/200 [00:26<00:42,  2.97it/s]"
          ]
        },
        {
          "output_type": "stream",
          "name": "stdout",
          "text": [
            "size of pred: 10\n",
            "size of u: 10\n",
            "size of y: 10\n"
          ]
        },
        {
          "output_type": "stream",
          "name": "stderr",
          "text": [
            "\r 38%|███▊      | 76/200 [00:26<00:41,  2.96it/s]"
          ]
        },
        {
          "output_type": "stream",
          "name": "stdout",
          "text": [
            "size of pred: 10\n",
            "size of u: 10\n",
            "size of y: 10\n"
          ]
        },
        {
          "output_type": "stream",
          "name": "stderr",
          "text": [
            "\r 38%|███▊      | 77/200 [00:27<00:41,  2.98it/s]"
          ]
        },
        {
          "output_type": "stream",
          "name": "stdout",
          "text": [
            "size of pred: 10\n",
            "size of u: 10\n",
            "size of y: 10\n"
          ]
        },
        {
          "output_type": "stream",
          "name": "stderr",
          "text": [
            "\r 39%|███▉      | 78/200 [00:27<00:41,  2.96it/s]"
          ]
        },
        {
          "output_type": "stream",
          "name": "stdout",
          "text": [
            "size of pred: 10\n",
            "size of u: 10\n",
            "size of y: 10\n"
          ]
        },
        {
          "output_type": "stream",
          "name": "stderr",
          "text": [
            "\r 40%|███▉      | 79/200 [00:28<00:40,  2.96it/s]"
          ]
        },
        {
          "output_type": "stream",
          "name": "stdout",
          "text": [
            "size of pred: 10\n",
            "size of u: 10\n",
            "size of y: 10\n"
          ]
        },
        {
          "output_type": "stream",
          "name": "stderr",
          "text": [
            "\r 40%|████      | 80/200 [00:28<00:40,  2.97it/s]"
          ]
        },
        {
          "output_type": "stream",
          "name": "stdout",
          "text": [
            "size of pred: 10\n",
            "size of u: 10\n",
            "size of y: 10\n"
          ]
        },
        {
          "output_type": "stream",
          "name": "stderr",
          "text": [
            "\r 40%|████      | 81/200 [00:28<00:40,  2.95it/s]"
          ]
        },
        {
          "output_type": "stream",
          "name": "stdout",
          "text": [
            "size of pred: 10\n",
            "size of u: 10\n",
            "size of y: 10\n"
          ]
        },
        {
          "output_type": "stream",
          "name": "stderr",
          "text": [
            "\r 41%|████      | 82/200 [00:29<00:40,  2.95it/s]"
          ]
        },
        {
          "output_type": "stream",
          "name": "stdout",
          "text": [
            "size of pred: 10\n",
            "size of u: 10\n",
            "size of y: 10\n"
          ]
        },
        {
          "output_type": "stream",
          "name": "stderr",
          "text": [
            "\r 42%|████▏     | 83/200 [00:29<00:39,  2.95it/s]"
          ]
        },
        {
          "output_type": "stream",
          "name": "stdout",
          "text": [
            "size of pred: 10\n",
            "size of u: 10\n",
            "size of y: 10\n"
          ]
        },
        {
          "output_type": "stream",
          "name": "stderr",
          "text": [
            "\r 42%|████▏     | 84/200 [00:29<00:39,  2.92it/s]"
          ]
        },
        {
          "output_type": "stream",
          "name": "stdout",
          "text": [
            "size of pred: 10\n",
            "size of u: 10\n",
            "size of y: 10\n"
          ]
        },
        {
          "output_type": "stream",
          "name": "stderr",
          "text": [
            "\r 42%|████▎     | 85/200 [00:30<00:39,  2.94it/s]"
          ]
        },
        {
          "output_type": "stream",
          "name": "stdout",
          "text": [
            "size of pred: 10\n",
            "size of u: 10\n",
            "size of y: 10\n"
          ]
        },
        {
          "output_type": "stream",
          "name": "stderr",
          "text": [
            "\r 43%|████▎     | 86/200 [00:30<00:38,  2.95it/s]"
          ]
        },
        {
          "output_type": "stream",
          "name": "stdout",
          "text": [
            "size of pred: 10\n",
            "size of u: 10\n",
            "size of y: 10\n"
          ]
        },
        {
          "output_type": "stream",
          "name": "stderr",
          "text": [
            "\r 44%|████▎     | 87/200 [00:30<00:38,  2.94it/s]"
          ]
        },
        {
          "output_type": "stream",
          "name": "stdout",
          "text": [
            "size of pred: 10\n",
            "size of u: 10\n",
            "size of y: 10\n"
          ]
        },
        {
          "output_type": "stream",
          "name": "stderr",
          "text": [
            "\r 44%|████▍     | 88/200 [00:31<00:37,  2.96it/s]"
          ]
        },
        {
          "output_type": "stream",
          "name": "stdout",
          "text": [
            "size of pred: 10\n",
            "size of u: 10\n",
            "size of y: 10\n"
          ]
        },
        {
          "output_type": "stream",
          "name": "stderr",
          "text": [
            "\r 44%|████▍     | 89/200 [00:31<00:37,  2.94it/s]"
          ]
        },
        {
          "output_type": "stream",
          "name": "stdout",
          "text": [
            "size of pred: 10\n",
            "size of u: 10\n",
            "size of y: 10\n"
          ]
        },
        {
          "output_type": "stream",
          "name": "stderr",
          "text": [
            "\r 45%|████▌     | 90/200 [00:31<00:41,  2.66it/s]"
          ]
        },
        {
          "output_type": "stream",
          "name": "stdout",
          "text": [
            "size of pred: 10\n",
            "size of u: 10\n",
            "size of y: 10\n"
          ]
        },
        {
          "output_type": "stream",
          "name": "stderr",
          "text": [
            "\r 46%|████▌     | 91/200 [00:32<00:43,  2.49it/s]"
          ]
        },
        {
          "output_type": "stream",
          "name": "stdout",
          "text": [
            "size of pred: 10\n",
            "size of u: 10\n",
            "size of y: 10\n"
          ]
        },
        {
          "output_type": "stream",
          "name": "stderr",
          "text": [
            "\r 46%|████▌     | 92/200 [00:32<00:44,  2.41it/s]"
          ]
        },
        {
          "output_type": "stream",
          "name": "stdout",
          "text": [
            "size of pred: 10\n",
            "size of u: 10\n",
            "size of y: 10\n"
          ]
        },
        {
          "output_type": "stream",
          "name": "stderr",
          "text": [
            "\r 46%|████▋     | 93/200 [00:33<00:45,  2.38it/s]"
          ]
        },
        {
          "output_type": "stream",
          "name": "stdout",
          "text": [
            "size of pred: 10\n",
            "size of u: 10\n",
            "size of y: 10\n"
          ]
        },
        {
          "output_type": "stream",
          "name": "stderr",
          "text": [
            "\r 47%|████▋     | 94/200 [00:33<00:45,  2.34it/s]"
          ]
        },
        {
          "output_type": "stream",
          "name": "stdout",
          "text": [
            "size of pred: 10\n",
            "size of u: 10\n",
            "size of y: 10\n"
          ]
        },
        {
          "output_type": "stream",
          "name": "stderr",
          "text": [
            "\r 48%|████▊     | 95/200 [00:34<00:43,  2.39it/s]"
          ]
        },
        {
          "output_type": "stream",
          "name": "stdout",
          "text": [
            "size of pred: 10\n",
            "size of u: 10\n",
            "size of y: 10\n"
          ]
        },
        {
          "output_type": "stream",
          "name": "stderr",
          "text": [
            "\r 48%|████▊     | 96/200 [00:34<00:40,  2.55it/s]"
          ]
        },
        {
          "output_type": "stream",
          "name": "stdout",
          "text": [
            "size of pred: 10\n",
            "size of u: 10\n",
            "size of y: 10\n"
          ]
        },
        {
          "output_type": "stream",
          "name": "stderr",
          "text": [
            "\r 48%|████▊     | 97/200 [00:34<00:38,  2.67it/s]"
          ]
        },
        {
          "output_type": "stream",
          "name": "stdout",
          "text": [
            "size of pred: 10\n",
            "size of u: 10\n",
            "size of y: 10\n"
          ]
        },
        {
          "output_type": "stream",
          "name": "stderr",
          "text": [
            "\r 49%|████▉     | 98/200 [00:35<00:37,  2.74it/s]"
          ]
        },
        {
          "output_type": "stream",
          "name": "stdout",
          "text": [
            "size of pred: 10\n",
            "size of u: 10\n",
            "size of y: 10\n"
          ]
        },
        {
          "output_type": "stream",
          "name": "stderr",
          "text": [
            "\r 50%|████▉     | 99/200 [00:35<00:36,  2.79it/s]"
          ]
        },
        {
          "output_type": "stream",
          "name": "stdout",
          "text": [
            "size of pred: 10\n",
            "size of u: 10\n",
            "size of y: 10\n"
          ]
        },
        {
          "output_type": "stream",
          "name": "stderr",
          "text": [
            "\r 50%|█████     | 100/200 [00:35<00:35,  2.82it/s]"
          ]
        },
        {
          "output_type": "stream",
          "name": "stdout",
          "text": [
            "size of pred: 10\n",
            "size of u: 10\n",
            "size of y: 10\n"
          ]
        },
        {
          "output_type": "stream",
          "name": "stderr",
          "text": [
            "\r 50%|█████     | 101/200 [00:36<00:34,  2.85it/s]"
          ]
        },
        {
          "output_type": "stream",
          "name": "stdout",
          "text": [
            "size of pred: 10\n",
            "size of u: 10\n",
            "size of y: 10\n",
            "size of pred: 10\n",
            "size of u: 10\n",
            "size of y: 10\n",
            "Epoch: 100 - Loss: 0.633875 Loss Physics: 0.204728Loss Operator: 0.429147\n",
            "size of pred: 10\n",
            "size of u: 10\n",
            "size of y: 10\n"
          ]
        },
        {
          "output_type": "stream",
          "name": "stderr",
          "text": [
            "\r 51%|█████     | 102/200 [00:36<00:34,  2.88it/s]"
          ]
        },
        {
          "output_type": "stream",
          "name": "stdout",
          "text": [
            "size of pred: 10\n",
            "size of u: 10\n",
            "size of y: 10\n"
          ]
        },
        {
          "output_type": "stream",
          "name": "stderr",
          "text": [
            "\r 52%|█████▏    | 103/200 [00:36<00:33,  2.88it/s]"
          ]
        },
        {
          "output_type": "stream",
          "name": "stdout",
          "text": [
            "size of pred: 10\n",
            "size of u: 10\n",
            "size of y: 10\n"
          ]
        },
        {
          "output_type": "stream",
          "name": "stderr",
          "text": [
            "\r 52%|█████▏    | 104/200 [00:37<00:33,  2.91it/s]"
          ]
        },
        {
          "output_type": "stream",
          "name": "stdout",
          "text": [
            "size of pred: 10\n",
            "size of u: 10\n",
            "size of y: 10\n"
          ]
        },
        {
          "output_type": "stream",
          "name": "stderr",
          "text": [
            "\r 52%|█████▎    | 105/200 [00:37<00:32,  2.92it/s]"
          ]
        },
        {
          "output_type": "stream",
          "name": "stdout",
          "text": [
            "size of pred: 10\n",
            "size of u: 10\n",
            "size of y: 10\n"
          ]
        },
        {
          "output_type": "stream",
          "name": "stderr",
          "text": [
            "\r 53%|█████▎    | 106/200 [00:37<00:31,  2.95it/s]"
          ]
        },
        {
          "output_type": "stream",
          "name": "stdout",
          "text": [
            "size of pred: 10\n",
            "size of u: 10\n",
            "size of y: 10\n"
          ]
        },
        {
          "output_type": "stream",
          "name": "stderr",
          "text": [
            "\r 54%|█████▎    | 107/200 [00:38<00:31,  2.99it/s]"
          ]
        },
        {
          "output_type": "stream",
          "name": "stdout",
          "text": [
            "size of pred: 10\n",
            "size of u: 10\n",
            "size of y: 10\n"
          ]
        },
        {
          "output_type": "stream",
          "name": "stderr",
          "text": [
            "\r 54%|█████▍    | 108/200 [00:38<00:30,  3.00it/s]"
          ]
        },
        {
          "output_type": "stream",
          "name": "stdout",
          "text": [
            "size of pred: 10\n",
            "size of u: 10\n",
            "size of y: 10\n"
          ]
        },
        {
          "output_type": "stream",
          "name": "stderr",
          "text": [
            "\r 55%|█████▍    | 109/200 [00:38<00:30,  2.98it/s]"
          ]
        },
        {
          "output_type": "stream",
          "name": "stdout",
          "text": [
            "size of pred: 10\n",
            "size of u: 10\n",
            "size of y: 10\n"
          ]
        }
      ]
    },
    {
      "cell_type": "code",
      "source": [],
      "metadata": {
        "id": "H3AH6h1sBA3R"
      },
      "execution_count": 20,
      "outputs": []
    },
    {
      "cell_type": "code",
      "source": [],
      "metadata": {
        "id": "vqKVtI2VBEfv"
      },
      "execution_count": null,
      "outputs": []
    }
  ]
}